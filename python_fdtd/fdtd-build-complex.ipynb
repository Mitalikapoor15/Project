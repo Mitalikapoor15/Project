{
 "cells": [
  {
   "cell_type": "code",
   "execution_count": null,
   "id": "079345c2-02a8-4723-a57c-988229636ba6",
   "metadata": {},
   "outputs": [],
   "source": [
    "%load_ext autoreload\n",
    "%autoreload 2"
   ]
  },
  {
   "cell_type": "code",
   "execution_count": null,
   "id": "03862bde-6d26-4374-81a9-e0fa155b2f7b",
   "metadata": {},
   "outputs": [],
   "source": [
    "import numpy as np\n",
    "import matplotlib.pyplot as plt\n",
    "import matplotlib.cm as cm\n",
    "import pandas as pd\n",
    "from scipy.fft import fft, ifft, fftfreq\n",
    "from matplotlib.pyplot import figure\n",
    "import math as m\n",
    "from segment import Segment\n",
    "from func import *"
   ]
  },
  {
   "cell_type": "code",
   "execution_count": null,
   "id": "cd7b9046-4076-4069-bae0-962bf04bbb6c",
   "metadata": {},
   "outputs": [],
   "source": [
    "NUM_PORTS = 4\n",
    "SIZE = 100\n",
    "imp0 = 377\n",
    "xs0 = 50  # source position for the segment 0\n",
    "tau = 0.3\n",
    "# kappa = 1j* m.sqrt(1-tau**2) # not working yet for complex number\n",
    "\n",
    "maxTime = 5000\n",
    "\n",
    "rings_no = 10\n",
    "N_seg = rings_no*2\n",
    "\n",
    "# sources = [[-1,-1],[0,2],[3,5],[2,0],[5,3],[2,4]]\n",
    "# couplings = [[tau,kappa],[tau,kappa],[tau,kappa],[tau,kappa],[tau,kappa],[tau,kappa]]\n",
    "\n",
    "sources = Sources(rings_no)  #working for any number of rings\n",
    "couplings = Couplings(rings_no, tau)\n",
    "\n",
    "print(sources)\n",
    "# print(couplings)\n",
    "ez_tab = np.zeros([N_seg, maxTime, SIZE], dtype=complex)"
   ]
  },
  {
   "cell_type": "code",
   "execution_count": null,
   "id": "1db4b489",
   "metadata": {},
   "outputs": [],
   "source": [
    "for qTime in range(maxTime):\n",
    "    s = cosMod(qTime, maxTime, complex_signal=False, f0=3e15) \n",
    "    plt.plot(range(maxTime)),s)\n",
    "    plt.show()  \n",
    "    \n"
   ]
  },
  {
   "cell_type": "code",
   "execution_count": null,
   "id": "a8567856-63b9-4093-8692-891c730a8af8",
   "metadata": {},
   "outputs": [],
   "source": [
    "f_array = []\n",
    "\n",
    "s_tab = np.zeros(maxTime, dtype=complex)\n",
    "\n",
    "for ii in range(N_seg):\n",
    "    f = Segment(SIZE)\n",
    "    f_array.append(f)\n",
    "# print(f_array)\n",
    "\n",
    "for qTime in range(30):\n",
    "    s = cosMod(qTime, maxTime, complex_signal=False, f0=3e15) \n",
    "    s_tab[qTime] = s\n",
    "    \n",
    "    for ii in range(N_seg):\n",
    "        s1 = sources[ii][0]\n",
    "        s2 = sources[ii][1]\n",
    "        tau_ = couplings[ii][0]\n",
    "        kappa_ = couplings[ii][1]\n",
    "        \n",
    "        xs = xs0\n",
    "        if (sources[ii][0] == -1):\n",
    "            s_new = s   \n",
    "            xs = xs0\n",
    "        else:\n",
    "            s_new = tau_*f_array[s1].ez[-1] + kappa_*f_array[s2].ez[-1]\n",
    "            xs = 2  \n",
    "            \n",
    "        # print(s_new)\n",
    "        \n",
    "        f_array[ii].hy_update()\n",
    "        f_array[ii].hy_sources(s_new,xs)\n",
    "        f_array[ii].ez_update()\n",
    "        f_array[ii].ez_sources(s_new,xs)\n",
    "        \n",
    "\n",
    "        ez_tab[ii,qTime,:] = f_array[ii].ez[:]   \n",
    "\n",
    "for ii in range(N_seg):\n",
    "    filename = f\"data/ez_tab_{ii:04d}.csv\"  # e.g., ez_tab_0000.txt, ez_tab_0001.txt, ...\n",
    "    np.savetxt(filename, ez_tab[ii, :, :], delimiter=\",\")"
   ]
  },
  {
   "cell_type": "code",
   "execution_count": null,
   "id": "702bb0a4",
   "metadata": {},
   "outputs": [],
   "source": [
    "for qTime in range(9):\n",
    "    plt.plot(np.real(s_tab[qTime]))\n",
    "plt.show()"
   ]
  },
  {
   "cell_type": "code",
   "execution_count": null,
   "id": "a04d6912-2765-483d-9ad4-f91b0cb75c63",
   "metadata": {},
   "outputs": [],
   "source": [
    "f, ax = plt.subplots(1,N_seg, figsize=(15,10)) \n",
    "\n",
    "vmax_val = np.max(np.real(ez_tab[0,:,:]))\n",
    "\n",
    "for ii in range(N_seg):\n",
    "    ax[ii].imshow(np.real(ez_tab[ii,:,:]), vmin = 0, vmax = vmax_val , cmap = 'Reds')\n",
    "# plt.savefig(\"ez_real.png\")\n",
    "\n",
    "\n",
    "# plt.figure()\n",
    "# plt.plot(s_tab)\n",
    "\n",
    "# f, ax3 = plt.subplots(1,6, figsize=(10,15)) \n",
    "# for ii in range(6):\n",
    "#     ax3[ii].imshow(abs(ez_tab[ii,:,:]), vmin = 0, vmax = vmax_val , cmap = 'Reds')\n",
    "# plt.savefig(\"ez_abs.png\")\n",
    "# plt.plot(ez_tab[:,15])"
   ]
  },
  {
   "cell_type": "code",
   "execution_count": null,
   "id": "1febe363-b824-400c-8e29-4ebb37c82472",
   "metadata": {},
   "outputs": [],
   "source": [
    "Ez = np.zeros((maxTime-1,SIZE), dtype=complex)\n",
    "yf = np.zeros((maxTime-1,SIZE), dtype=complex)\n",
    "N = maxTime-1\n",
    "dt = 1e-17\n",
    "xf = fftfreq(N,dt)\n",
    "\n",
    "for ii in range(N_seg):\n",
    "    filename = f\"data/ez_tab_{ii:04d}.csv\"\n",
    "    df = pd.read_csv(filename)\n",
    "    # print(df.shape)\n",
    "    Ez[:,ii] = df.iloc[:,80]   #all rows of the 10th spatial point\n",
    "    Ez[:,ii] -= np.mean(Ez[:,ii])\n",
    "    \n",
    "    signal = np.real(Ez[start:,ii])\n",
    "    signal -= np.mean(signal)\n",
    "    \n",
    "    yf[:,ii] = abs(fft(Ez[:,ii]))\n",
    "    \n",
    "    #accessing particular columns - all elements(all time steps for a particular spatial coordinate.)\n",
    "x = range(len(df.iloc[0,:])) \n",
    "# print(x)   \n",
    "\n",
    "for ii in range(N_seg):\n",
    "    figure(figsize=(8,8), dpi=80)\n",
    "    plt.subplot(2,1,1)\n",
    "    plt.plot(np.real(Ez[:,ii]), label={ii})\n",
    "    plt.title(\"Temporal Evolution\")\n",
    "    plt.xlabel(\"time\")\n",
    "    plt.ylabel(\"Ez(t)\")\n",
    "    plt.legend()\n",
    "    plt.subplot(2,1,2)\n",
    "    plt.plot(xf,np.real(yf[:,ii]/max(yf[:,0])), label={ii})\n",
    "    plt.xlim([0.,1e16])\n",
    "    plt.title(\"Frequency Spectrum\")\n",
    "    plt.xlabel(\"frequency\")\n",
    "    plt.ylabel(\"Ez(f)\")\n",
    "    plt.legend()\n",
    "    plt.show()"
   ]
  },
  {
   "cell_type": "code",
   "execution_count": null,
   "id": "998fa1f8",
   "metadata": {},
   "outputs": [],
   "source": [
    "from scipy.signal import windows\n",
    "from numpy.fft import fft, fftfreq\n",
    "\n",
    "start = 2000  # skip transient\n",
    "signal = np.real(Ez[start:, ii])\n",
    "signal -= np.mean(signal)  # remove DC\n",
    "\n",
    "# Apply Hann window\n",
    "win = windows.hann(len(signal))\n",
    "signal_win = signal * win\n",
    "\n",
    "# Zero-pad to make spectrum smoother\n",
    "Npad = 2000\n",
    "yf = np.abs(fft(signal_win, n=Npad))\n",
    "xf = fftfreq(Npad, dt)\n",
    "\n",
    "# Normalize & plot\n",
    "plt.plot(xf, yf)\n",
    "plt.xlim([0., 1e16])\n",
    "plt.show()\n"
   ]
  },
  {
   "cell_type": "code",
   "execution_count": null,
   "id": "5d6b8c1c",
   "metadata": {},
   "outputs": [],
   "source": [
    "# Parameters\n",
    "\n",
    "for tp in range(2000,2350,100):\n",
    "    ez_tab_tp = ez_tab[:,tp,:]\n",
    "    plot_field_ring(ez_tab_tp)\n",
    "\n"
   ]
  },
  {
   "cell_type": "markdown",
   "id": "fac2d558",
   "metadata": {},
   "source": []
  },
  {
   "cell_type": "code",
   "execution_count": null,
   "id": "b7de61e9-7037-4eea-981e-8425b33a7a50",
   "metadata": {},
   "outputs": [],
   "source": []
  },
  {
   "cell_type": "code",
   "execution_count": null,
   "id": "2550026d-e01b-48e9-aa53-41718c24f8e3",
   "metadata": {},
   "outputs": [],
   "source": []
  },
  {
   "cell_type": "code",
   "execution_count": null,
   "id": "3004b784-2ee0-4d1c-856c-c5a47620ed9e",
   "metadata": {},
   "outputs": [],
   "source": []
  }
 ],
 "metadata": {
  "kernelspec": {
   "display_name": "base",
   "language": "python",
   "name": "python3"
  },
  "language_info": {
   "codemirror_mode": {
    "name": "ipython",
    "version": 3
   },
   "file_extension": ".py",
   "mimetype": "text/x-python",
   "name": "python",
   "nbconvert_exporter": "python",
   "pygments_lexer": "ipython3",
   "version": "3.12.7"
  }
 },
 "nbformat": 4,
 "nbformat_minor": 5
}
